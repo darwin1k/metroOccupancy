{
 "cells": [
  {
   "cell_type": "markdown",
   "metadata": {},
   "source": [
    "### Extrae todos los archivos desde zip y los deja en una carpeta de salida"
   ]
  },
  {
   "cell_type": "code",
   "execution_count": 1,
   "metadata": {},
   "outputs": [
    {
     "name": "stderr",
     "output_type": "stream",
     "text": [
      "UsageError: Line magic function `%dotenv` not found.\n"
     ]
    }
   ],
   "source": [
    "import zipfile\n",
    "import os\n",
    "from dotenv import load_dotenv\n",
    "\n",
    "#lista de uso para recopilar la información\n",
    "path=[]\n",
    "nombre=[]\n",
    "carpeta=[]\n",
    "files=[]\n",
    "\n",
    "\n",
    "#load all enviroment variables from filev\n",
    "%load_ext dotenv\n",
    "%dotenv ./env_variables/.env\n",
    "load_dotenv()\n",
    "\n",
    "#se especifica la ruta\n",
    "ruta = os.environ['ruta_totalArchivos']\n",
    "outputFolder = os.environ['ruta_totalSalida']\n",
    "\n",
    "#lectura de archivos y extracción de archivos.\n",
    "\n",
    "listaFiles= os.listdir(ruta)\n",
    "for file in listaFiles:\n",
    "    if zipfile.is_zipfile(ruta +'/' +file):\n",
    "        with zipfile.ZipFile(ruta +'/' +file, mode=\"r\") as archive:\n",
    "            archive.extractall(outputFolder+'/')"
   ]
  },
  {
   "cell_type": "markdown",
   "metadata": {},
   "source": [
    "### Realizar una primera exploración de los datos"
   ]
  },
  {
   "cell_type": "code",
   "execution_count": 111,
   "metadata": {},
   "outputs": [
    {
     "name": "stdout",
     "output_type": "stream",
     "text": [
      "The dotenv extension is already loaded. To reload it, use:\n",
      "  %reload_ext dotenv\n"
     ]
    },
    {
     "data": {
      "text/html": [
       "<div>\n",
       "<style scoped>\n",
       "    .dataframe tbody tr th:only-of-type {\n",
       "        vertical-align: middle;\n",
       "    }\n",
       "\n",
       "    .dataframe tbody tr th {\n",
       "        vertical-align: top;\n",
       "    }\n",
       "\n",
       "    .dataframe thead th {\n",
       "        text-align: right;\n",
       "    }\n",
       "</style>\n",
       "<table border=\"1\" class=\"dataframe\">\n",
       "  <thead>\n",
       "    <tr style=\"text-align: right;\">\n",
       "      <th></th>\n",
       "      <th>frame.number</th>\n",
       "      <th>_ws.col.Time</th>\n",
       "      <th>RIO_20482_CBI_15361_101.SD_CDV_16_NP</th>\n",
       "    </tr>\n",
       "  </thead>\n",
       "  <tbody>\n",
       "    <tr>\n",
       "      <th>0</th>\n",
       "      <td>1</td>\n",
       "      <td>2024-01-03 05:56:28.525693</td>\n",
       "      <td>NaN</td>\n",
       "    </tr>\n",
       "    <tr>\n",
       "      <th>1</th>\n",
       "      <td>2</td>\n",
       "      <td>2024-01-03 05:56:28.532209</td>\n",
       "      <td>1.0</td>\n",
       "    </tr>\n",
       "    <tr>\n",
       "      <th>2</th>\n",
       "      <td>3</td>\n",
       "      <td>2024-01-03 05:56:28.560647</td>\n",
       "      <td>NaN</td>\n",
       "    </tr>\n",
       "    <tr>\n",
       "      <th>3</th>\n",
       "      <td>4</td>\n",
       "      <td>2024-01-03 05:56:28.627036</td>\n",
       "      <td>NaN</td>\n",
       "    </tr>\n",
       "    <tr>\n",
       "      <th>4</th>\n",
       "      <td>5</td>\n",
       "      <td>2024-01-03 05:56:28.643350</td>\n",
       "      <td>NaN</td>\n",
       "    </tr>\n",
       "  </tbody>\n",
       "</table>\n",
       "</div>"
      ],
      "text/plain": [
       "   frame.number                _ws.col.Time  \\\n",
       "0             1  2024-01-03 05:56:28.525693   \n",
       "1             2  2024-01-03 05:56:28.532209   \n",
       "2             3  2024-01-03 05:56:28.560647   \n",
       "3             4  2024-01-03 05:56:28.627036   \n",
       "4             5  2024-01-03 05:56:28.643350   \n",
       "\n",
       "   RIO_20482_CBI_15361_101.SD_CDV_16_NP  \n",
       "0                                   NaN  \n",
       "1                                   1.0  \n",
       "2                                   NaN  \n",
       "3                                   NaN  \n",
       "4                                   NaN  "
      ]
     },
     "execution_count": 111,
     "metadata": {},
     "output_type": "execute_result"
    }
   ],
   "source": [
    "# se cargan las librerias\n",
    "\n",
    "import pandas as pd\n",
    "import os\n",
    "import matplotlib.pyplot as plt\n",
    "import numpy as np\n",
    "from dotenv import load_dotenv\n",
    "\n",
    "#carga las variables de entorno desde archivo .env en carpeta env_variables\n",
    "%load_ext dotenv\n",
    "%dotenv ./env_variables/.env\n",
    "\n",
    "\n",
    "load_dotenv()\n",
    "\n",
    "# se cargan las ruta\n",
    "ruta = os.environ['ruta_datos']\n",
    "\n",
    "# archivos de prueba, samples\n",
    "file1 ='03012024_055712_SMIO_CBI_1_348.csv'\n",
    "\n",
    "\n",
    "# lectura de archivos\n",
    "df1 = pd.read_csv(ruta + '/' + file1)\n",
    "\n",
    "\n",
    "# espefición de columnas a rescatar del dataset \n",
    "tag1 = 'RIO_20482_CBI_15361_101.SD_CDV_16_NP'\n",
    "tag2 = 'RIO_20488_CBI_15362_101.SD_CDV_15_BA'\n",
    "\n",
    "list_columns = ['frame.number','_ws.col.Time', tag1]\n",
    "\n",
    "# dataFrame para  sensor\n",
    "df_cdv1 = df1[list_columns]\n",
    "\n",
    "#visualizar la carga de datos en un archivo\n",
    "df_cdv1.head(5)"
   ]
  },
  {
   "cell_type": "code",
   "execution_count": 112,
   "metadata": {},
   "outputs": [
    {
     "name": "stdout",
     "output_type": "stream",
     "text": [
      "<class 'pandas.core.frame.DataFrame'>\n",
      "RangeIndex: 454011 entries, 0 to 454010\n",
      "Data columns (total 3 columns):\n",
      " #   Column                                Non-Null Count   Dtype  \n",
      "---  ------                                --------------   -----  \n",
      " 0   frame.number                          454011 non-null  int64  \n",
      " 1   _ws.col.Time                          454011 non-null  object \n",
      " 2   RIO_20482_CBI_15361_101.SD_CDV_16_NP  53983 non-null   float64\n",
      "dtypes: float64(1), int64(1), object(1)\n",
      "memory usage: 10.4+ MB\n"
     ]
    }
   ],
   "source": [
    "# revisamos que tipos de datos son:\n",
    "df_cdv1.info()"
   ]
  },
  {
   "cell_type": "code",
   "execution_count": 113,
   "metadata": {},
   "outputs": [
    {
     "data": {
      "text/html": [
       "<div>\n",
       "<style scoped>\n",
       "    .dataframe tbody tr th:only-of-type {\n",
       "        vertical-align: middle;\n",
       "    }\n",
       "\n",
       "    .dataframe tbody tr th {\n",
       "        vertical-align: top;\n",
       "    }\n",
       "\n",
       "    .dataframe thead th {\n",
       "        text-align: right;\n",
       "    }\n",
       "</style>\n",
       "<table border=\"1\" class=\"dataframe\">\n",
       "  <thead>\n",
       "    <tr style=\"text-align: right;\">\n",
       "      <th></th>\n",
       "      <th>frame.number</th>\n",
       "      <th>RIO_20482_CBI_15361_101.SD_CDV_16_NP</th>\n",
       "    </tr>\n",
       "  </thead>\n",
       "  <tbody>\n",
       "    <tr>\n",
       "      <th>count</th>\n",
       "      <td>454011.00000</td>\n",
       "      <td>53983.000000</td>\n",
       "    </tr>\n",
       "    <tr>\n",
       "      <th>mean</th>\n",
       "      <td>227006.00000</td>\n",
       "      <td>0.785970</td>\n",
       "    </tr>\n",
       "    <tr>\n",
       "      <th>std</th>\n",
       "      <td>131061.83087</td>\n",
       "      <td>0.410152</td>\n",
       "    </tr>\n",
       "    <tr>\n",
       "      <th>min</th>\n",
       "      <td>1.00000</td>\n",
       "      <td>0.000000</td>\n",
       "    </tr>\n",
       "    <tr>\n",
       "      <th>25%</th>\n",
       "      <td>113503.50000</td>\n",
       "      <td>1.000000</td>\n",
       "    </tr>\n",
       "    <tr>\n",
       "      <th>50%</th>\n",
       "      <td>227006.00000</td>\n",
       "      <td>1.000000</td>\n",
       "    </tr>\n",
       "    <tr>\n",
       "      <th>75%</th>\n",
       "      <td>340508.50000</td>\n",
       "      <td>1.000000</td>\n",
       "    </tr>\n",
       "    <tr>\n",
       "      <th>max</th>\n",
       "      <td>454011.00000</td>\n",
       "      <td>1.000000</td>\n",
       "    </tr>\n",
       "  </tbody>\n",
       "</table>\n",
       "</div>"
      ],
      "text/plain": [
       "       frame.number  RIO_20482_CBI_15361_101.SD_CDV_16_NP\n",
       "count  454011.00000                          53983.000000\n",
       "mean   227006.00000                              0.785970\n",
       "std    131061.83087                              0.410152\n",
       "min         1.00000                              0.000000\n",
       "25%    113503.50000                              1.000000\n",
       "50%    227006.00000                              1.000000\n",
       "75%    340508.50000                              1.000000\n",
       "max    454011.00000                              1.000000"
      ]
     },
     "execution_count": 113,
     "metadata": {},
     "output_type": "execute_result"
    }
   ],
   "source": [
    "#realizamos una breve revisión de los datos y su distribución\n",
    "df_cdv1.describe()"
   ]
  },
  {
   "cell_type": "markdown",
   "metadata": {},
   "source": [
    "Como existen diferencias entre las cuentas de registros para; { frame.number , datos}\n",
    "\n",
    "Entonces, revisaremos si existen valores Nan"
   ]
  },
  {
   "cell_type": "code",
   "execution_count": 114,
   "metadata": {},
   "outputs": [
    {
     "data": {
      "text/plain": [
       "frame.number                                 0\n",
       "_ws.col.Time                                 0\n",
       "RIO_20482_CBI_15361_101.SD_CDV_16_NP    400028\n",
       "dtype: int64"
      ]
     },
     "execution_count": 114,
     "metadata": {},
     "output_type": "execute_result"
    }
   ],
   "source": [
    "#revisamos si existen valores Nan\n",
    "df_cdv1.isna().sum().sort_values()"
   ]
  },
  {
   "cell_type": "markdown",
   "metadata": {},
   "source": [
    "Verficamos que los valores Nan se deben a problemas de muestreo y posiblemente cuando toma la muestra rencuentra el registro vacio, Nan .Así que tomamos la decisión de solo tomar los valores disponibles y no realizar imputación o algún reemplazo de esos valores, tomando en consideración que los valores están en el rango 0 - 1.\n",
    "* Se renombran las columnas\n",
    "* Se convierte la columna de tiempo a date-timme"
   ]
  },
  {
   "cell_type": "code",
   "execution_count": 115,
   "metadata": {},
   "outputs": [],
   "source": [
    "# Sacamos los valores Nan\n",
    "df_cdv1 = df_cdv1.dropna().reset_index(drop=True)\n",
    "\n",
    "#renombrar columnas\n",
    "df_cdv1 = df_cdv1.rename(columns={\"frame.number\": \"idx\", \"_ws.col.Time\": \"date-time\", list_columns[2]:\"data\"})\n",
    "\n",
    "#convertir desde objeto a data-time\n",
    "df_cdv1['date-time'] = pd.to_datetime(df_cdv1['date-time'])\n",
    "\n",
    "#obtener solo el tiempo\n",
    "df_cdv1['time'] = df_cdv1['date-time'].apply( lambda x: x.time())"
   ]
  },
  {
   "cell_type": "code",
   "execution_count": 116,
   "metadata": {},
   "outputs": [
    {
     "data": {
      "text/plain": [
       "idx                   int64\n",
       "date-time    datetime64[ns]\n",
       "data                float64\n",
       "time                 object\n",
       "dtype: object"
      ]
     },
     "execution_count": 116,
     "metadata": {},
     "output_type": "execute_result"
    }
   ],
   "source": [
    "# se visualiza los cambios de tipos de datos\n",
    "df_cdv1.dtypes"
   ]
  },
  {
   "cell_type": "markdown",
   "metadata": {},
   "source": [
    "Solo se necesita verificar los valores entre el rango de hora de 6AM - 11 PM"
   ]
  },
  {
   "cell_type": "code",
   "execution_count": 117,
   "metadata": {},
   "outputs": [],
   "source": [
    "#filtro por rango de hora.\n",
    "df_cdv1 = df_cdv1.set_index('date-time').between_time('06:00', '23:00')"
   ]
  },
  {
   "cell_type": "markdown",
   "metadata": {},
   "source": [
    "- se comprueba la distribución de los datos\n",
    "- se comprueba sino falta ningún dato\n",
    "- se comprueba el horario, primer y último registro si se encuentran en el rango."
   ]
  },
  {
   "cell_type": "code",
   "execution_count": 118,
   "metadata": {},
   "outputs": [
    {
     "name": "stdout",
     "output_type": "stream",
     "text": [
      " distribución: data\n",
      "1.0    41582\n",
      "0.0    11343\n",
      "Name: count, dtype: int64\n",
      "\n",
      " suma total de valores: 52925 - tamaño del dataFrame: 52925\n",
      "\n",
      " ---------------------------------------------\n",
      "                             idx  data             time\n",
      "date-time                                              \n",
      "2024-01-03 06:00:00.177540  8902   1.0  06:00:00.177540\n",
      "primer registro: None\n",
      "\n",
      " ---------------------------------------------\n",
      "                               idx  data             time\n",
      "date-time                                                \n",
      "2024-01-03 08:56:27.260832  454005   1.0  08:56:27.260832\n",
      "ultimo registro: None\n"
     ]
    }
   ],
   "source": [
    "print(f' distribución: {df_cdv1.data.value_counts()}')\n",
    "print(f'\\n suma total de valores: {df_cdv1.data.value_counts().sum()} - tamaño del dataFrame: {len(df_cdv1)}')\n",
    "print(f'\\n ---------------------------------------------')\n",
    "print(f'primer registro: {print(df_cdv1.head(1))}')\n",
    "print(f'\\n ---------------------------------------------')\n",
    "print(f'ultimo registro: {print(df_cdv1.tail(1))}')"
   ]
  },
  {
   "cell_type": "code",
   "execution_count": 119,
   "metadata": {},
   "outputs": [
    {
     "data": {
      "text/html": [
       "<div>\n",
       "<style scoped>\n",
       "    .dataframe tbody tr th:only-of-type {\n",
       "        vertical-align: middle;\n",
       "    }\n",
       "\n",
       "    .dataframe tbody tr th {\n",
       "        vertical-align: top;\n",
       "    }\n",
       "\n",
       "    .dataframe thead th {\n",
       "        text-align: right;\n",
       "    }\n",
       "</style>\n",
       "<table border=\"1\" class=\"dataframe\">\n",
       "  <thead>\n",
       "    <tr style=\"text-align: right;\">\n",
       "      <th></th>\n",
       "      <th>idx</th>\n",
       "      <th>data</th>\n",
       "      <th>time</th>\n",
       "    </tr>\n",
       "    <tr>\n",
       "      <th>date-time</th>\n",
       "      <th></th>\n",
       "      <th></th>\n",
       "      <th></th>\n",
       "    </tr>\n",
       "  </thead>\n",
       "  <tbody>\n",
       "    <tr>\n",
       "      <th>2024-01-03 06:00:00.177540</th>\n",
       "      <td>8902</td>\n",
       "      <td>1.0</td>\n",
       "      <td>06:00:00.177540</td>\n",
       "    </tr>\n",
       "    <tr>\n",
       "      <th>2024-01-03 06:00:00.378650</th>\n",
       "      <td>8910</td>\n",
       "      <td>1.0</td>\n",
       "      <td>06:00:00.378650</td>\n",
       "    </tr>\n",
       "    <tr>\n",
       "      <th>2024-01-03 06:00:00.578018</th>\n",
       "      <td>8918</td>\n",
       "      <td>1.0</td>\n",
       "      <td>06:00:00.578018</td>\n",
       "    </tr>\n",
       "    <tr>\n",
       "      <th>2024-01-03 06:00:00.777871</th>\n",
       "      <td>8926</td>\n",
       "      <td>1.0</td>\n",
       "      <td>06:00:00.777871</td>\n",
       "    </tr>\n",
       "    <tr>\n",
       "      <th>2024-01-03 06:00:00.977870</th>\n",
       "      <td>8934</td>\n",
       "      <td>1.0</td>\n",
       "      <td>06:00:00.977870</td>\n",
       "    </tr>\n",
       "  </tbody>\n",
       "</table>\n",
       "</div>"
      ],
      "text/plain": [
       "                             idx  data             time\n",
       "date-time                                              \n",
       "2024-01-03 06:00:00.177540  8902   1.0  06:00:00.177540\n",
       "2024-01-03 06:00:00.378650  8910   1.0  06:00:00.378650\n",
       "2024-01-03 06:00:00.578018  8918   1.0  06:00:00.578018\n",
       "2024-01-03 06:00:00.777871  8926   1.0  06:00:00.777871\n",
       "2024-01-03 06:00:00.977870  8934   1.0  06:00:00.977870"
      ]
     },
     "execution_count": 119,
     "metadata": {},
     "output_type": "execute_result"
    }
   ],
   "source": [
    "# visualizar los datos\n",
    "df_cdv1.head(5)"
   ]
  },
  {
   "cell_type": "code",
   "execution_count": 138,
   "metadata": {},
   "outputs": [
    {
     "data": {
      "image/png": "[encoded data removed]",
      "text/plain": [
       "<Figure size 1500x1000 with 1 Axes>"
      ]
     },
     "metadata": {},
     "output_type": "display_data"
    }
   ],
   "source": [
    "# visualización de los datos\n",
    "# se grafica un rango de datos\n",
    "data_filter = df_cdv1[0:30000]\n",
    "\n",
    "x=data_filter.index\n",
    "y=data_filter.data\n",
    "\n",
    "fig, ax = plt.subplots(figsize=(15,10))\n",
    "\n",
    "ax.plot(x, y, linewidth=2.0)\n",
    "plt.show()\n"
   ]
  },
  {
   "cell_type": "markdown",
   "metadata": {},
   "source": [
    "Se realiza una transformación de la señal por comodidad y se detectan los cambios de señal para identificar cuando está desocupando y por cuánto tiempo.\n",
    "Se utiliza una máquina de estados para definir posiciones.\n",
    "\n",
    "- 0: desocupado \n",
    "- 1: llegada\n",
    "- 2: salida\n",
    "- 3: ocupado"
   ]
  },
  {
   "cell_type": "code",
   "execution_count": 122,
   "metadata": {},
   "outputs": [],
   "source": [
    "# Se convierte la señal\n",
    "\n",
    "dataFrame = df_cdv1\n",
    "dataFrame['data'] = abs(dataFrame.data - 1)\n",
    "\n",
    "# se toma como valor inicial \n",
    "flags = [int(dataFrame.data.iloc[0])]\n",
    "\n",
    "# se identifica la señal por estados\n",
    "for x in range(1,len(dataFrame)):\n",
    "    if (dataFrame.data.iloc[x] == 1 and dataFrame.data.iloc[x-1] == 0):\n",
    "        flags.append(1)\n",
    "    elif(dataFrame.data.iloc[x] == 0 and dataFrame.data.iloc[x-1] == 1):\n",
    "        flags.append(2)\n",
    "    elif(dataFrame.data.iloc[x] == 0 and dataFrame.data.iloc[x-1] == 0):\n",
    "        flags.append(0)\n",
    "    else:\n",
    "        flags.append(3)\n",
    "\n",
    "# se agrega columna\n",
    "df_cdv1['flags'] = flags"
   ]
  },
  {
   "cell_type": "code",
   "execution_count": 137,
   "metadata": {},
   "outputs": [
    {
     "data": {
      "image/png": "[encoded data removed]",
      "text/plain": [
       "<Figure size 1500x1000 with 1 Axes>"
      ]
     },
     "metadata": {},
     "output_type": "display_data"
    }
   ],
   "source": [
    "# visualización de los datos\n",
    "# plot\n",
    "data_filter = df_cdv1[0:30000]\n",
    "\n",
    "x=data_filter.index\n",
    "y=data_filter.data\n",
    "\n",
    "fig, ax = plt.subplots(figsize=(15,10))\n",
    "\n",
    "ax.plot(x, y, linewidth=2.0)\n",
    "plt.show()"
   ]
  },
  {
   "cell_type": "markdown",
   "metadata": {},
   "source": [
    "Se obtiene los datos de tiempo para obtener el tiempo de ocupación"
   ]
  },
  {
   "cell_type": "code",
   "execution_count": 124,
   "metadata": {},
   "outputs": [
    {
     "data": {
      "text/plain": [
       "(62, 62, 62, 62)"
      ]
     },
     "execution_count": 124,
     "metadata": {},
     "output_type": "execute_result"
    }
   ],
   "source": [
    "timeArriving = []\n",
    "timeDeparture = []\n",
    "numberTrain = []\n",
    "timeOcuppancy = []\n",
    "\n",
    "# se carga dataFrame de sensor\n",
    "dataFrame = df_cdv1\n",
    "\n",
    "# se realiza la detección de los estados 1 y 2\n",
    "for x in range(len(dataFrame)):\n",
    "    if(dataFrame['flags'].iloc[x] == 1):\n",
    "        timeArriving.append(dataFrame.index[x])\n",
    "        numberTrain.append(x)\n",
    "    elif(dataFrame['flags'].iloc[x] == 2):\n",
    "        timeDeparture.append(dataFrame.index[x])\n",
    "\n",
    "#Si existe diferencias entre el número flags por no inicio o termino de la señal, entonces se elimina el último.\n",
    "delta = len(timeDeparture) - len(timeArriving)\n",
    "if(delta < 0):\n",
    "    timeArriving.pop()\n",
    "    numberTrain.pop()\n",
    "\n",
    "# se calcula el tiempo de ocupación\n",
    "for y in range(len(timeDeparture)):\n",
    "    deltaTime = timeDeparture[y] - timeArriving[y]\n",
    "    timeOcuppancy.append(deltaTime)\n",
    "\n",
    "# se verifica los tamaños de las columnas y también de la diferencia + o -\n",
    "len(timeArriving), len(timeDeparture), len(timeOcuppancy), len(numberTrain)"
   ]
  },
  {
   "cell_type": "markdown",
   "metadata": {},
   "source": [
    "Se construye un dataFrame con las columnas de tiempo"
   ]
  },
  {
   "cell_type": "code",
   "execution_count": 125,
   "metadata": {},
   "outputs": [
    {
     "data": {
      "text/html": [
       "<div>\n",
       "<style scoped>\n",
       "    .dataframe tbody tr th:only-of-type {\n",
       "        vertical-align: middle;\n",
       "    }\n",
       "\n",
       "    .dataframe tbody tr th {\n",
       "        vertical-align: top;\n",
       "    }\n",
       "\n",
       "    .dataframe thead th {\n",
       "        text-align: right;\n",
       "    }\n",
       "</style>\n",
       "<table border=\"1\" class=\"dataframe\">\n",
       "  <thead>\n",
       "    <tr style=\"text-align: right;\">\n",
       "      <th></th>\n",
       "      <th>numberTrain</th>\n",
       "      <th>timeArriving</th>\n",
       "      <th>timeDeparture</th>\n",
       "      <th>timeOcuppancy</th>\n",
       "    </tr>\n",
       "  </thead>\n",
       "  <tbody>\n",
       "    <tr>\n",
       "      <th>0</th>\n",
       "      <td>383</td>\n",
       "      <td>2024-01-03 06:01:16.794358</td>\n",
       "      <td>2024-01-03 06:02:01.003493</td>\n",
       "      <td>0 days 00:00:44.209135</td>\n",
       "    </tr>\n",
       "    <tr>\n",
       "      <th>1</th>\n",
       "      <td>1334</td>\n",
       "      <td>2024-01-03 06:04:27.035162</td>\n",
       "      <td>2024-01-03 06:05:01.842386</td>\n",
       "      <td>0 days 00:00:34.807224</td>\n",
       "    </tr>\n",
       "    <tr>\n",
       "      <th>2</th>\n",
       "      <td>2214</td>\n",
       "      <td>2024-01-03 06:07:23.074629</td>\n",
       "      <td>2024-01-03 06:07:58.680536</td>\n",
       "      <td>0 days 00:00:35.605907</td>\n",
       "    </tr>\n",
       "    <tr>\n",
       "      <th>3</th>\n",
       "      <td>3061</td>\n",
       "      <td>2024-01-03 06:10:12.510028</td>\n",
       "      <td>2024-01-03 06:11:00.920566</td>\n",
       "      <td>0 days 00:00:48.410538</td>\n",
       "    </tr>\n",
       "    <tr>\n",
       "      <th>4</th>\n",
       "      <td>4090</td>\n",
       "      <td>2024-01-03 06:13:38.354803</td>\n",
       "      <td>2024-01-03 06:14:13.162325</td>\n",
       "      <td>0 days 00:00:34.807522</td>\n",
       "    </tr>\n",
       "  </tbody>\n",
       "</table>\n",
       "</div>"
      ],
      "text/plain": [
       "   numberTrain               timeArriving              timeDeparture  \\\n",
       "0          383 2024-01-03 06:01:16.794358 2024-01-03 06:02:01.003493   \n",
       "1         1334 2024-01-03 06:04:27.035162 2024-01-03 06:05:01.842386   \n",
       "2         2214 2024-01-03 06:07:23.074629 2024-01-03 06:07:58.680536   \n",
       "3         3061 2024-01-03 06:10:12.510028 2024-01-03 06:11:00.920566   \n",
       "4         4090 2024-01-03 06:13:38.354803 2024-01-03 06:14:13.162325   \n",
       "\n",
       "           timeOcuppancy  \n",
       "0 0 days 00:00:44.209135  \n",
       "1 0 days 00:00:34.807224  \n",
       "2 0 days 00:00:35.605907  \n",
       "3 0 days 00:00:48.410538  \n",
       "4 0 days 00:00:34.807522  "
      ]
     },
     "execution_count": 125,
     "metadata": {},
     "output_type": "execute_result"
    }
   ],
   "source": [
    "timeDict = {'numberTrain': numberTrain,'timeArriving': timeArriving, 'timeDeparture':timeDeparture, 'timeOcuppancy':timeOcuppancy}\n",
    "resultFrame = pd.DataFrame(timeDict)\n",
    "resultFrame.head(5)"
   ]
  },
  {
   "cell_type": "code",
   "execution_count": 126,
   "metadata": {},
   "outputs": [
    {
     "data": {
      "text/html": [
       "<div>\n",
       "<style scoped>\n",
       "    .dataframe tbody tr th:only-of-type {\n",
       "        vertical-align: middle;\n",
       "    }\n",
       "\n",
       "    .dataframe tbody tr th {\n",
       "        vertical-align: top;\n",
       "    }\n",
       "\n",
       "    .dataframe thead th {\n",
       "        text-align: right;\n",
       "    }\n",
       "</style>\n",
       "<table border=\"1\" class=\"dataframe\">\n",
       "  <thead>\n",
       "    <tr style=\"text-align: right;\">\n",
       "      <th></th>\n",
       "      <th>numberTrain</th>\n",
       "      <th>timeArriving</th>\n",
       "      <th>timeDeparture</th>\n",
       "      <th>timeOcuppancy</th>\n",
       "      <th>minutes</th>\n",
       "    </tr>\n",
       "  </thead>\n",
       "  <tbody>\n",
       "    <tr>\n",
       "      <th>0</th>\n",
       "      <td>383</td>\n",
       "      <td>2024-01-03 06:01:16.794358</td>\n",
       "      <td>2024-01-03 06:02:01.003493</td>\n",
       "      <td>0 days 00:00:44.209135</td>\n",
       "      <td>0.736819</td>\n",
       "    </tr>\n",
       "    <tr>\n",
       "      <th>1</th>\n",
       "      <td>1334</td>\n",
       "      <td>2024-01-03 06:04:27.035162</td>\n",
       "      <td>2024-01-03 06:05:01.842386</td>\n",
       "      <td>0 days 00:00:34.807224</td>\n",
       "      <td>0.580120</td>\n",
       "    </tr>\n",
       "    <tr>\n",
       "      <th>2</th>\n",
       "      <td>2214</td>\n",
       "      <td>2024-01-03 06:07:23.074629</td>\n",
       "      <td>2024-01-03 06:07:58.680536</td>\n",
       "      <td>0 days 00:00:35.605907</td>\n",
       "      <td>0.593432</td>\n",
       "    </tr>\n",
       "    <tr>\n",
       "      <th>3</th>\n",
       "      <td>3061</td>\n",
       "      <td>2024-01-03 06:10:12.510028</td>\n",
       "      <td>2024-01-03 06:11:00.920566</td>\n",
       "      <td>0 days 00:00:48.410538</td>\n",
       "      <td>0.806842</td>\n",
       "    </tr>\n",
       "    <tr>\n",
       "      <th>4</th>\n",
       "      <td>4090</td>\n",
       "      <td>2024-01-03 06:13:38.354803</td>\n",
       "      <td>2024-01-03 06:14:13.162325</td>\n",
       "      <td>0 days 00:00:34.807522</td>\n",
       "      <td>0.580125</td>\n",
       "    </tr>\n",
       "  </tbody>\n",
       "</table>\n",
       "</div>"
      ],
      "text/plain": [
       "   numberTrain               timeArriving              timeDeparture  \\\n",
       "0          383 2024-01-03 06:01:16.794358 2024-01-03 06:02:01.003493   \n",
       "1         1334 2024-01-03 06:04:27.035162 2024-01-03 06:05:01.842386   \n",
       "2         2214 2024-01-03 06:07:23.074629 2024-01-03 06:07:58.680536   \n",
       "3         3061 2024-01-03 06:10:12.510028 2024-01-03 06:11:00.920566   \n",
       "4         4090 2024-01-03 06:13:38.354803 2024-01-03 06:14:13.162325   \n",
       "\n",
       "           timeOcuppancy   minutes  \n",
       "0 0 days 00:00:44.209135  0.736819  \n",
       "1 0 days 00:00:34.807224  0.580120  \n",
       "2 0 days 00:00:35.605907  0.593432  \n",
       "3 0 days 00:00:48.410538  0.806842  \n",
       "4 0 days 00:00:34.807522  0.580125  "
      ]
     },
     "execution_count": 126,
     "metadata": {},
     "output_type": "execute_result"
    }
   ],
   "source": [
    "resultFrame['minutes'] = resultFrame['timeOcuppancy'] / pd.Timedelta(minutes=1)\n",
    "resultFrame.head(5)"
   ]
  },
  {
   "cell_type": "code",
   "execution_count": 127,
   "metadata": {},
   "outputs": [
    {
     "data": {
      "text/html": [
       "<div>\n",
       "<style scoped>\n",
       "    .dataframe tbody tr th:only-of-type {\n",
       "        vertical-align: middle;\n",
       "    }\n",
       "\n",
       "    .dataframe tbody tr th {\n",
       "        vertical-align: top;\n",
       "    }\n",
       "\n",
       "    .dataframe thead th {\n",
       "        text-align: right;\n",
       "    }\n",
       "</style>\n",
       "<table border=\"1\" class=\"dataframe\">\n",
       "  <thead>\n",
       "    <tr style=\"text-align: right;\">\n",
       "      <th></th>\n",
       "      <th>numberTrain</th>\n",
       "      <th>timeArriving</th>\n",
       "      <th>timeDeparture</th>\n",
       "      <th>timeOcuppancy</th>\n",
       "      <th>minutes</th>\n",
       "    </tr>\n",
       "  </thead>\n",
       "  <tbody>\n",
       "    <tr>\n",
       "      <th>count</th>\n",
       "      <td>62.000000</td>\n",
       "      <td>62</td>\n",
       "      <td>62</td>\n",
       "      <td>62</td>\n",
       "      <td>62.000000</td>\n",
       "    </tr>\n",
       "    <tr>\n",
       "      <th>mean</th>\n",
       "      <td>24232.838710</td>\n",
       "      <td>2024-01-03 07:20:47.791098880</td>\n",
       "      <td>2024-01-03 07:21:24.389442816</td>\n",
       "      <td>0 days 00:00:36.598343451</td>\n",
       "      <td>0.609972</td>\n",
       "    </tr>\n",
       "    <tr>\n",
       "      <th>min</th>\n",
       "      <td>383.000000</td>\n",
       "      <td>2024-01-03 06:01:16.794358</td>\n",
       "      <td>2024-01-03 06:02:01.003493</td>\n",
       "      <td>0 days 00:00:33.003723</td>\n",
       "      <td>0.550062</td>\n",
       "    </tr>\n",
       "    <tr>\n",
       "      <th>25%</th>\n",
       "      <td>12088.000000</td>\n",
       "      <td>2024-01-03 06:40:18.299260928</td>\n",
       "      <td>2024-01-03 06:40:57.658240768</td>\n",
       "      <td>0 days 00:00:34.258282250</td>\n",
       "      <td>0.570971</td>\n",
       "    </tr>\n",
       "    <tr>\n",
       "      <th>50%</th>\n",
       "      <td>22816.000000</td>\n",
       "      <td>2024-01-03 07:16:04.362016</td>\n",
       "      <td>2024-01-03 07:16:40.070211584</td>\n",
       "      <td>0 days 00:00:34.807339</td>\n",
       "      <td>0.580122</td>\n",
       "    </tr>\n",
       "    <tr>\n",
       "      <th>75%</th>\n",
       "      <td>35734.500000</td>\n",
       "      <td>2024-01-03 07:59:08.619597824</td>\n",
       "      <td>2024-01-03 07:59:43.276333312</td>\n",
       "      <td>0 days 00:00:36.756510250</td>\n",
       "      <td>0.612609</td>\n",
       "    </tr>\n",
       "    <tr>\n",
       "      <th>max</th>\n",
       "      <td>52594.000000</td>\n",
       "      <td>2024-01-03 08:55:21.246811</td>\n",
       "      <td>2024-01-03 08:55:56.054545</td>\n",
       "      <td>0 days 00:00:52.415059</td>\n",
       "      <td>0.873584</td>\n",
       "    </tr>\n",
       "    <tr>\n",
       "      <th>std</th>\n",
       "      <td>14902.319405</td>\n",
       "      <td>NaN</td>\n",
       "      <td>NaN</td>\n",
       "      <td>0 days 00:00:04.139468210</td>\n",
       "      <td>0.068991</td>\n",
       "    </tr>\n",
       "  </tbody>\n",
       "</table>\n",
       "</div>"
      ],
      "text/plain": [
       "        numberTrain                   timeArriving  \\\n",
       "count     62.000000                             62   \n",
       "mean   24232.838710  2024-01-03 07:20:47.791098880   \n",
       "min      383.000000     2024-01-03 06:01:16.794358   \n",
       "25%    12088.000000  2024-01-03 06:40:18.299260928   \n",
       "50%    22816.000000     2024-01-03 07:16:04.362016   \n",
       "75%    35734.500000  2024-01-03 07:59:08.619597824   \n",
       "max    52594.000000     2024-01-03 08:55:21.246811   \n",
       "std    14902.319405                            NaN   \n",
       "\n",
       "                       timeDeparture              timeOcuppancy    minutes  \n",
       "count                             62                         62  62.000000  \n",
       "mean   2024-01-03 07:21:24.389442816  0 days 00:00:36.598343451   0.609972  \n",
       "min       2024-01-03 06:02:01.003493     0 days 00:00:33.003723   0.550062  \n",
       "25%    2024-01-03 06:40:57.658240768  0 days 00:00:34.258282250   0.570971  \n",
       "50%    2024-01-03 07:16:40.070211584     0 days 00:00:34.807339   0.580122  \n",
       "75%    2024-01-03 07:59:43.276333312  0 days 00:00:36.756510250   0.612609  \n",
       "max       2024-01-03 08:55:56.054545     0 days 00:00:52.415059   0.873584  \n",
       "std                              NaN  0 days 00:00:04.139468210   0.068991  "
      ]
     },
     "execution_count": 127,
     "metadata": {},
     "output_type": "execute_result"
    }
   ],
   "source": [
    "resultFrame.describe()"
   ]
  },
  {
   "cell_type": "code",
   "execution_count": 136,
   "metadata": {},
   "outputs": [
    {
     "data": {
      "text/plain": [
       "<function matplotlib.pyplot.show(close=None, block=None)>"
      ]
     },
     "execution_count": 136,
     "metadata": {},
     "output_type": "execute_result"
    },
    {
     "data": {
      "image/png": "[encoded data removed]",
      "text/plain": [
       "<Figure size 640x480 with 1 Axes>"
      ]
     },
     "metadata": {},
     "output_type": "display_data"
    }
   ],
   "source": [
    "# plot\n",
    "data_filter = resultFrame\n",
    "\n",
    "x=data_filter.index\n",
    "y=data_filter['minutes']\n",
    "\n",
    "#figsize=(30,10)\n",
    "fig, ax = plt.subplots()\n",
    "\n",
    "ax.scatter(x, y, linewidth=2.0)\n",
    "#ax.boxplot(y)\n",
    "\n",
    "plt.xlabel('Samples') \n",
    "plt.ylabel('Occupancy (min)') \n",
    "plt.show"
   ]
  },
  {
   "cell_type": "code",
   "execution_count": 135,
   "metadata": {},
   "outputs": [
    {
     "data": {
      "image/png": "[encoded data removed]",
      "text/plain": [
       "<Figure size 640x480 with 1 Axes>"
      ]
     },
     "metadata": {},
     "output_type": "display_data"
    }
   ],
   "source": [
    "# plot\n",
    "data_filter = resultFrame\n",
    "\n",
    "x=data_filter.index\n",
    "y=data_filter['minutes']\n",
    "\n",
    "fig, ax = plt.subplots()\n",
    "\n",
    "ax.hist(y, bins=10, linewidth=0.5, edgecolor=\"white\")\n",
    "plt.xlabel('Occupancy (min)') \n",
    "plt.ylabel('Counts') \n",
    "plt.show()"
   ]
  },
  {
   "cell_type": "code",
   "execution_count": 134,
   "metadata": {},
   "outputs": [
    {
     "data": {
      "text/plain": [
       "<Axes: ylabel='minutes'>"
      ]
     },
     "execution_count": 134,
     "metadata": {},
     "output_type": "execute_result"
    },
    {
     "data": {
      "image/png": "[encoded data removed]",
      "text/plain": [
       "<Figure size 640x480 with 1 Axes>"
      ]
     },
     "metadata": {},
     "output_type": "display_data"
    }
   ],
   "source": [
    "import seaborn as sns\n",
    "\n",
    "# plot\n",
    "data = resultFrame\n",
    "\n",
    "\n",
    "sns.boxplot(data=resultFrame, y=\"minutes\")"
   ]
  },
  {
   "cell_type": "markdown",
   "metadata": {},
   "source": [
    "### Conclusiones:\n",
    "\n",
    "- 1.- La muestra indica que existe una parada"
   ]
  }
 ],
 "metadata": {
  "kernelspec": {
   "display_name": "Python 3",
   "language": "python",
   "name": "python3"
  },
  "language_info": {
   "codemirror_mode": {
    "name": "ipython",
    "version": 3
   },
   "file_extension": ".py",
   "mimetype": "text/x-python",
   "name": "python",
   "nbconvert_exporter": "python",
   "pygments_lexer": "ipython3",
   "version": "3.8.0"
  }
 },
 "nbformat": 4,
 "nbformat_minor": 2
}
